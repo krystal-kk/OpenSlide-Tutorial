{
 "cells": [
  {
   "cell_type": "markdown",
   "metadata": {},
   "source": [
    "## WSI图片切片"
   ]
  },
  {
   "cell_type": "markdown",
   "metadata": {},
   "source": [
    "##### 1. 导入相关的包"
   ]
  },
  {
   "cell_type": "code",
   "execution_count": null,
   "metadata": {},
   "outputs": [],
   "source": [
    "import openslide\n",
    "from openslide import open_slide\n",
    "from openslide.deepzoom import DeepZoomGenerator\n",
    "\n",
    "import os\n",
    "import numpy as np\n",
    "from PIL import Image\n",
    "from matplotlib import pyplot as plt"
   ]
  },
  {
   "cell_type": "markdown",
   "metadata": {},
   "source": [
    "##### 2. WSI切片函数"
   ]
  },
  {
   "cell_type": "code",
   "execution_count": null,
   "metadata": {},
   "outputs": [],
   "source": [
    "def wsi_processing(img_path, save_path, tile_size):\n",
    "    slide = open_slide(img_path)\n",
    "    tiles = DeepZoomGenerator(slide, tile_size, overlap=0, limit_bounds=False)\n",
    "    level = tiles.level_count - 1\n",
    "    cols, rows = tiles.level_tiles[level]\n",
    "    \n",
    "    for row in range(rows):\n",
    "        for col in range(cols):\n",
    "            tile_name = os.path.join(save_path, '%d_%d' % (col, row))\n",
    "            print(\"Now saving tile with title: \", tile_name)\n",
    "            temp_tile = tiles.get_tile(level, (col, row))\n",
    "            temp_tile_RGB = temp_tile.convert('RGB')\n",
    "            temp_tile_np = np.array(temp_tile_RGB)\n",
    "            plt.imsave(tile_name + \".png\", temp_tile_np)"
   ]
  },
  {
   "cell_type": "markdown",
   "metadata": {},
   "source": [
    "##### 3. 计算均值方差函数\n",
    "上面的方法会保存大量的空白背景图片，因此可以根据自己的数据集，计算一下空白，非空白，本空白的均值和方差，以此来筛选一下图片需不需要保存。"
   ]
  },
  {
   "cell_type": "code",
   "execution_count": null,
   "metadata": {},
   "outputs": [],
   "source": [
    "def find_mean_std_pixel_value(img_list):\n",
    "    \n",
    "    avg_pixel_value = []\n",
    "    stddev_pixel_value= []\n",
    "    for file in img_list:\n",
    "        img = Image.open(file)\n",
    "        image = np.array(img)\n",
    "        avg = image.mean()\n",
    "        std = image.std()\n",
    "        avg_pixel_value.append(avg)\n",
    "        stddev_pixel_value.append(std)\n",
    "        \n",
    "    avg_pixel_value = np.array(avg_pixel_value)  \n",
    "    stddev_pixel_value=np.array(stddev_pixel_value)\n",
    "        \n",
    "    print(\"Average pixel value for all images is:\", avg_pixel_value.mean())\n",
    "    print(\"Average std dev of pixel value for all images is:\", stddev_pixel_value.mean())\n",
    "    \n",
    "    return(avg_pixel_value, stddev_pixel_value)"
   ]
  },
  {
   "cell_type": "code",
   "execution_count": null,
   "metadata": {},
   "outputs": [],
   "source": [
    "import glob\n",
    "orig_tile_dir_name = \"/Users/Desktop/Images/\"\n",
    "\n",
    "blank_img_list=(glob.glob(orig_tile_dir_name+\"blank/*.png\"))\n",
    "partial_img_list=(glob.glob(orig_tile_dir_name+\"partial/*.png\"))\n",
    "good_img_list=(glob.glob(orig_tile_dir_name+\"good/*.png\"))\n",
    "\n",
    "blank_img_stats = find_mean_std_pixel_value(blank_img_list)\n",
    "partial_img_stats = find_mean_std_pixel_value(partial_img_list)\n",
    "good_img_stats = find_mean_std_pixel_value(good_img_list)"
   ]
  },
  {
   "cell_type": "markdown",
   "metadata": {},
   "source": [
    "##### 4. 改进版WSI切片函数\n",
    "根据前面算的数值，在保存图片前面加上一个条件。"
   ]
  },
  {
   "cell_type": "code",
   "execution_count": null,
   "metadata": {},
   "outputs": [],
   "source": [
    "def wsi_processing(img_path, save_path, tile_size):\n",
    "    slide = open_slide(img_path)\n",
    "    tiles = DeepZoomGenerator(slide, tile_size, overlap=0, limit_bounds=False)\n",
    "    level = tiles.level_count - 1\n",
    "    cols, rows = tiles.level_tiles[level]\n",
    "    \n",
    "    for row in range(rows):\n",
    "        for col in range(cols):\n",
    "            tile_name = os.path.join(save_path, '%d_%d' % (col, row))\n",
    "            # print(\"Now saving tile with title: \", tile_name)\n",
    "            temp_tile = tiles.get_tile(level, (col, row))\n",
    "            temp_tile_RGB = temp_tile.convert('RGB')\n",
    "            temp_tile_np = np.array(temp_tile_RGB)\n",
    "            if temp_tile_np.mean() < 230 and temp_tile_np.std() > 20:\n",
    "                plt.imsave(tile_name + \".png\", temp_tile_np)"
   ]
  }
 ],
 "metadata": {
  "language_info": {
   "name": "python"
  },
  "orig_nbformat": 4
 },
 "nbformat": 4,
 "nbformat_minor": 2
}
